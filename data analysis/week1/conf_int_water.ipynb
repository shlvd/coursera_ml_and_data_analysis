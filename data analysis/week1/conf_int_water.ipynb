{
 "cells": [
  {
   "cell_type": "code",
   "execution_count": 39,
   "metadata": {},
   "outputs": [],
   "source": [
    "import pandas as pd\n",
    "import numpy as np\n",
    "from statsmodels.stats.weightstats import _tconfint_generic, _zconfint_generic"
   ]
  },
  {
   "cell_type": "code",
   "execution_count": 14,
   "metadata": {
    "scrolled": false
   },
   "outputs": [
    {
     "name": "stdout",
     "output_type": "stream",
     "text": [
      "         mortality    hardness\n",
      "count    61.000000   61.000000\n",
      "mean   1524.147541   47.180328\n",
      "std     187.668754   38.093966\n",
      "min    1096.000000    5.000000\n",
      "25%    1379.000000   14.000000\n",
      "50%    1555.000000   39.000000\n",
      "75%    1668.000000   75.000000\n",
      "max    1987.000000  138.000000\n",
      "  location        town  mortality  hardness\n",
      "0    South        Bath       1247       105\n",
      "1    North  Birkenhead       1668        17\n",
      "2    South  Birmingham       1466         5\n",
      "3    North   Blackburn       1800        14\n",
      "4    North   Blackpool       1609        18\n"
     ]
    }
   ],
   "source": [
    "df = pd.read_csv('water.txt', delimiter='\\t')\n",
    "print(df.describe())\n",
    "print(df.head())"
   ]
  },
  {
   "cell_type": "code",
   "execution_count": 42,
   "metadata": {},
   "outputs": [
    {
     "data": {
      "text/plain": [
       "(1476.0833413552848, 1572.2117406119285)"
      ]
     },
     "execution_count": 42,
     "metadata": {},
     "output_type": "execute_result"
    }
   ],
   "source": [
    "_tconfint_generic(df['mortality'].mean(), df['mortality'].std(ddof=1) / np.sqrt(len(df)),len(df) - 1, 0.05, 'two-sided')"
   ]
  },
  {
   "cell_type": "code",
   "execution_count": 43,
   "metadata": {},
   "outputs": [
    {
     "data": {
      "text/plain": [
       "(1320.1517462936238, 1433.463638321761)"
      ]
     },
     "execution_count": 43,
     "metadata": {},
     "output_type": "execute_result"
    }
   ],
   "source": [
    "_tconfint_generic(df[df.location == 'South'].mortality.mean(),\n",
    "                  df[df.location == 'South'].mortality.std(ddof=1) / np.sqrt(len(df[df.location == 'South'])),\n",
    "                  len(df[df.location == 'South']) - 1, 0.05, 'two-sided')"
   ]
  },
  {
   "cell_type": "code",
   "execution_count": 44,
   "metadata": {},
   "outputs": [
    {
     "data": {
      "text/plain": [
       "(1586.5605251961385, 1680.6394748038613)"
      ]
     },
     "execution_count": 44,
     "metadata": {},
     "output_type": "execute_result"
    }
   ],
   "source": [
    "_tconfint_generic(df[df.location == 'North'].mortality.mean(),\n",
    "                  df[df.location == 'North'].mortality.std(ddof=1) / np.sqrt(len(df[df.location == 'North'])),\n",
    "                  len(df[df.location == 'North']) - 1, 0.05, 'two-sided')"
   ]
  },
  {
   "cell_type": "code",
   "execution_count": 46,
   "metadata": {},
   "outputs": [
    {
     "data": {
      "text/plain": [
       "(53.467198692036106, 86.07126284642544)"
      ]
     },
     "execution_count": 46,
     "metadata": {},
     "output_type": "execute_result"
    }
   ],
   "source": [
    "_tconfint_generic(df[df.location == 'South'].hardness.mean(),\n",
    "                  df[df.location == 'South'].hardness.std(ddof=1) / np.sqrt(len(df[df.location == 'South'])),\n",
    "                  len(df[df.location == 'South']) - 1, 0.05, 'two-sided')"
   ]
  },
  {
   "cell_type": "code",
   "execution_count": 47,
   "metadata": {},
   "outputs": [
    {
     "data": {
      "text/plain": [
       "(21.42248728572426, 39.37751271427574)"
      ]
     },
     "execution_count": 47,
     "metadata": {},
     "output_type": "execute_result"
    }
   ],
   "source": [
    "_tconfint_generic(df[df.location == 'North'].hardness.mean(),\n",
    "                  df[df.location == 'North'].hardness.std(ddof=1) / np.sqrt(len(df[df.location == 'North'])),\n",
    "                  len(df[df.location == 'North']) - 1, 0.05, 'two-sided')"
   ]
  }
 ],
 "metadata": {
  "kernelspec": {
   "display_name": "Python 3",
   "language": "python",
   "name": "python3"
  },
  "language_info": {
   "codemirror_mode": {
    "name": "ipython",
    "version": 3
   },
   "file_extension": ".py",
   "mimetype": "text/x-python",
   "name": "python",
   "nbconvert_exporter": "python",
   "pygments_lexer": "ipython3",
   "version": "3.7.3"
  }
 },
 "nbformat": 4,
 "nbformat_minor": 2
}
