{
 "cells": [
  {
   "cell_type": "code",
   "execution_count": 6,
   "metadata": {},
   "outputs": [],
   "source": [
    "import pandas as pd\n",
    "\n",
    "train = pd.read_csv('coursera_sessions_train.txt', sep=';', header=None, names = ['views', 'buys'])\n",
    "X_test = pd.read_csv('coursera_sessions_test.txt', sep=';', header=None, names = ['views', 'buys'])"
   ]
  },
  {
   "cell_type": "code",
   "execution_count": 7,
   "metadata": {},
   "outputs": [],
   "source": [
    "import numpy as np\n",
    "\n",
    "def string_features_to_int(data, nan_place):\n",
    "    views, buys = list(), list()\n",
    "    for view, buy in zip(data['views'], data['buys']):\n",
    "        views.append([int(el) for el in view.split(',')])\n",
    "        if type(buy) == float:\n",
    "            buys.append(nan_place)\n",
    "        else:\n",
    "            buys.append([int(el) for el in buy.split(',')])\n",
    "    return views, buys\n",
    "views, buys = string_features_to_int(train, nan_place=[-1])"
   ]
  },
  {
   "cell_type": "code",
   "execution_count": 8,
   "metadata": {},
   "outputs": [
    {
     "data": {
      "text/html": [
       "<div>\n",
       "<style scoped>\n",
       "    .dataframe tbody tr th:only-of-type {\n",
       "        vertical-align: middle;\n",
       "    }\n",
       "\n",
       "    .dataframe tbody tr th {\n",
       "        vertical-align: top;\n",
       "    }\n",
       "\n",
       "    .dataframe thead th {\n",
       "        text-align: right;\n",
       "    }\n",
       "</style>\n",
       "<table border=\"1\" class=\"dataframe\">\n",
       "  <thead>\n",
       "    <tr style=\"text-align: right;\">\n",
       "      <th></th>\n",
       "      <th>views</th>\n",
       "      <th>buys</th>\n",
       "    </tr>\n",
       "  </thead>\n",
       "  <tbody>\n",
       "    <tr>\n",
       "      <th>0</th>\n",
       "      <td>[59, 60, 61, 62, 60, 63, 64, 65, 66, 61, 67, 6...</td>\n",
       "      <td>[67, 60, 63]</td>\n",
       "    </tr>\n",
       "    <tr>\n",
       "      <th>1</th>\n",
       "      <td>[84, 85, 86, 87, 88, 89, 84, 90, 91, 92, 93, 86]</td>\n",
       "      <td>[86]</td>\n",
       "    </tr>\n",
       "    <tr>\n",
       "      <th>2</th>\n",
       "      <td>[138, 198, 199, 127]</td>\n",
       "      <td>[199]</td>\n",
       "    </tr>\n",
       "    <tr>\n",
       "      <th>3</th>\n",
       "      <td>[303, 304, 305, 306, 307, 308, 309, 310, 311, ...</td>\n",
       "      <td>[303]</td>\n",
       "    </tr>\n",
       "    <tr>\n",
       "      <th>4</th>\n",
       "      <td>[352, 353, 352]</td>\n",
       "      <td>[352]</td>\n",
       "    </tr>\n",
       "  </tbody>\n",
       "</table>\n",
       "</div>"
      ],
      "text/plain": [
       "                                               views          buys\n",
       "0  [59, 60, 61, 62, 60, 63, 64, 65, 66, 61, 67, 6...  [67, 60, 63]\n",
       "1   [84, 85, 86, 87, 88, 89, 84, 90, 91, 92, 93, 86]          [86]\n",
       "2                               [138, 198, 199, 127]         [199]\n",
       "3  [303, 304, 305, 306, 307, 308, 309, 310, 311, ...         [303]\n",
       "4                                    [352, 353, 352]         [352]"
      ]
     },
     "execution_count": 8,
     "metadata": {},
     "output_type": "execute_result"
    }
   ],
   "source": [
    "X_train = pd.DataFrame()\n",
    "views, X_buys = string_features_to_int(train, nan_place=np.nan)\n",
    "X_train['views'] = views\n",
    "X_train['buys']  = X_buys\n",
    "X_train.dropna(inplace=True)\n",
    "X_train.reset_index(drop=True, inplace=True)\n",
    "X_train.head()"
   ]
  },
  {
   "cell_type": "code",
   "execution_count": 9,
   "metadata": {},
   "outputs": [],
   "source": [
    "from collections import Counter\n",
    "\n",
    "train['views'] = views\n",
    "train['buys']  = buys\n",
    "\n",
    "views_cnt = Counter()\n",
    "buys_cnt  = Counter()\n",
    "for v_lst, b_lst in zip(train['views'], train['buys']):\n",
    "    for v_el in v_lst:\n",
    "        views_cnt[v_el] += 1\n",
    "    for b_el in b_lst:\n",
    "        buys_cnt[b_el] += 1"
   ]
  },
  {
   "cell_type": "code",
   "execution_count": 10,
   "metadata": {},
   "outputs": [
    {
     "data": {
      "text/html": [
       "<div>\n",
       "<style scoped>\n",
       "    .dataframe tbody tr th:only-of-type {\n",
       "        vertical-align: middle;\n",
       "    }\n",
       "\n",
       "    .dataframe tbody tr th {\n",
       "        vertical-align: top;\n",
       "    }\n",
       "\n",
       "    .dataframe thead th {\n",
       "        text-align: right;\n",
       "    }\n",
       "</style>\n",
       "<table border=\"1\" class=\"dataframe\">\n",
       "  <thead>\n",
       "    <tr style=\"text-align: right;\">\n",
       "      <th></th>\n",
       "      <th>views</th>\n",
       "      <th>buys</th>\n",
       "    </tr>\n",
       "  </thead>\n",
       "  <tbody>\n",
       "    <tr>\n",
       "      <th>0</th>\n",
       "      <td>[63, 68, 69, 70, 66, 61, 59, 61, 66, 68]</td>\n",
       "      <td>[66, 63]</td>\n",
       "    </tr>\n",
       "    <tr>\n",
       "      <th>1</th>\n",
       "      <td>[158, 159, 160, 159, 161, 162]</td>\n",
       "      <td>[162]</td>\n",
       "    </tr>\n",
       "    <tr>\n",
       "      <th>2</th>\n",
       "      <td>[200, 201, 202, 203, 204]</td>\n",
       "      <td>[201, 205]</td>\n",
       "    </tr>\n",
       "    <tr>\n",
       "      <th>3</th>\n",
       "      <td>[371, 372, 371]</td>\n",
       "      <td>[371, 373]</td>\n",
       "    </tr>\n",
       "    <tr>\n",
       "      <th>4</th>\n",
       "      <td>[422]</td>\n",
       "      <td>[422]</td>\n",
       "    </tr>\n",
       "  </tbody>\n",
       "</table>\n",
       "</div>"
      ],
      "text/plain": [
       "                                      views        buys\n",
       "0  [63, 68, 69, 70, 66, 61, 59, 61, 66, 68]    [66, 63]\n",
       "1            [158, 159, 160, 159, 161, 162]       [162]\n",
       "2                 [200, 201, 202, 203, 204]  [201, 205]\n",
       "3                           [371, 372, 371]  [371, 373]\n",
       "4                                     [422]       [422]"
      ]
     },
     "execution_count": 10,
     "metadata": {},
     "output_type": "execute_result"
    }
   ],
   "source": [
    "test_views, test_buys = string_features_to_int(X_test, nan_place=np.nan)\n",
    "X_test['views'] = test_views\n",
    "X_test['buys']  = test_buys\n",
    "X_test.dropna(inplace=True)\n",
    "X_test.reset_index(drop=True, inplace=True)\n",
    "X_test.head()\n"
   ]
  },
  {
   "cell_type": "code",
   "execution_count": 11,
   "metadata": {},
   "outputs": [],
   "source": [
    "def predict(viewed, k, method='popular'):\n",
    "    unique_viewed = np.array(viewed)[np.sort(np.unique(viewed, return_index=True)[1])]    \n",
    "    k = min(len(viewed), k)    \n",
    "    ratings = []\n",
    "    \n",
    "    for item in unique_viewed:\n",
    "        if method == 'popular':\n",
    "            ratings.append(-views_cnt[item])\n",
    "        else:\n",
    "            ratings.append(-buys_cnt[item])\n",
    "    \n",
    "    sorted_items = np.argsort(ratings, kind='mergesort')\n",
    "    return list(unique_viewed[sorted_items])[0:k]"
   ]
  },
  {
   "cell_type": "code",
   "execution_count": 12,
   "metadata": {},
   "outputs": [],
   "source": [
    "def recall(predicted, buyed):\n",
    "    rb = [x for x in buyed if x in predicted]\n",
    "    return len(rb)/float(len(buyed))\n"
   ]
  },
  {
   "cell_type": "code",
   "execution_count": 13,
   "metadata": {},
   "outputs": [],
   "source": [
    "def precision(predicted, buyed, k):\n",
    "    rb = [x for x in buyed if x in predicted]\n",
    "    return len(rb)/float(k)"
   ]
  },
  {
   "cell_type": "code",
   "execution_count": 14,
   "metadata": {},
   "outputs": [
    {
     "name": "stdout",
     "output_type": "stream",
     "text": [
      "(0.44263431659495955, 0.5121951219512195, 0.8246918247126118, 0.10243902439024391)\n",
      "(0.41733266203252556, 0.48130968622100956, 0.8000340663538578, 0.0962619372442019)\n",
      "(0.6884494924267651, 0.8037694013303769, 0.9263073024228791, 0.1607538802660754)\n",
      "(0.4606201666660298, 0.5276944065484311, 0.8201874337490196, 0.10553888130968621)\n"
     ]
    }
   ],
   "source": [
    "def get_stats(data, method='popular'):\n",
    "    ar1 = np.mean([recall   (predict(v, 1, method=method), b)    for v, b in zip(data['views'], data['buys'])])\n",
    "    ap1 = np.mean([precision(predict(v, 1, method=method), b, 1) for v, b in zip(data['views'], data['buys'])])\n",
    "    ar5 = np.mean([recall   (predict(v, 5, method=method), b)    for v, b in zip(data['views'], data['buys'])])\n",
    "    ap5 = np.mean([precision(predict(v, 1, method=method), b, 5) for v, b in zip(data['views'], data['buys'])])\n",
    "    return ar1, ap1, ar5, ap5\n",
    "\n",
    "train_popular = get_stats(X_train, 'popular')\n",
    "test_popular  = get_stats(X_test, 'popular')\n",
    "train_purch   = get_stats(X_train, 'purch')\n",
    "test_purch    = get_stats(X_test, 'purch')\n",
    "print(train_popular)\n",
    "print(test_popular)\n",
    "print(train_purch)\n",
    "print(test_purch)"
   ]
  }
 ],
 "metadata": {
  "kernelspec": {
   "display_name": "Python 3",
   "language": "python",
   "name": "python3"
  },
  "language_info": {
   "codemirror_mode": {
    "name": "ipython",
    "version": 3
   },
   "file_extension": ".py",
   "mimetype": "text/x-python",
   "name": "python",
   "nbconvert_exporter": "python",
   "pygments_lexer": "ipython3",
   "version": "3.7.3"
  }
 },
 "nbformat": 4,
 "nbformat_minor": 2
}
